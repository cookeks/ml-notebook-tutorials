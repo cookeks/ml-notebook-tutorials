
{
 "cells": [
  {
   "cell_type": "markdown",
   "metadata": {},
   "source": [
    "# Extreme Learning Machines from Scratch\n",
    "### Author: [Glenn Paul Gara](glenngara.github.io)\n",
    "<!--The notebook is originally uploaded to the [GitHub repository](github.com).-->\n",
    "\n",
    "<!---\n",
    "Extreme Learning Machines (ELMs) are single-hidden layer feedforward neural networks (SLFN) that learns very fast compared to gradient-based learning techniques. It’s like a classical one hidden layer neural network without a learning process. This kind of neural network does not perform iterative tuning, making it faster than networks trained using backpropagation method with better generalization performance as claimed by the author.\n",
    "\n",
    "ELM is based on the Universal Approximation Theorem which states that:\n",
    "\n",