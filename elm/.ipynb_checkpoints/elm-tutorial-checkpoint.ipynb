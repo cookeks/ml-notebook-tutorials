
{
 "cells": [
  {
   "cell_type": "markdown",
   "metadata": {},
   "source": [
    "# Extreme Learning Machines from Scratch\n",
    "### Author: [Glenn Paul Gara](glenngara.github.io)\n",
    "<!--The notebook is originally uploaded to the [GitHub repository](github.com).-->\n",
    "\n",
    "<!---\n",