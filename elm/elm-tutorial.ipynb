
{
 "cells": [
  {
   "cell_type": "markdown",
   "metadata": {},
   "source": [
    "# Extreme Learning Machines from Scratch\n",
    "### Author: [Glenn Paul Gara](glenngara.github.io)\n",
    "<!--The notebook is originally uploaded to the [GitHub repository](github.com).-->\n",
    "\n",
    "<!---\n",
    "Extreme Learning Machines (ELMs) are single-hidden layer feedforward neural networks (SLFN) that learns very fast compared to gradient-based learning techniques. It’s like a classical one hidden layer neural network without a learning process. This kind of neural network does not perform iterative tuning, making it faster than networks trained using backpropagation method with better generalization performance as claimed by the author.\n",
    "\n",
    "ELM is based on the Universal Approximation Theorem which states that:\n",
    "\n",
    "> _\"A feed-forward network with a single hidden layer containing a finite number of neurons can approximate continuous functions on compact subsets of Rn, under mild assumptions on the activation function.\"_\n",
    "\n",
    "This means that ELM can solve a classification and regression tasks with significant accuracy if it has sufficient hidden neurons and training data to learn for all hidden neurons.\n",
    "\n",
    "In this tutorial, we will build an Extreme Learning Machine model for `MNIST handwritten digits`.\n",
    "\n",
    "### Outline\n",
    "\n",
    "1. Package Imports\n",
    "2. Dataset Loading and Preprocessing\n",
    "3. Network Initialization\n",
    "-->\n",
    "---"
   ]
  },
  {
   "cell_type": "markdown",
   "metadata": {},
   "source": [
    "Let's import necessary packages for this tutorial."
   ]
  },
  {
   "cell_type": "code",
   "execution_count": 1,
   "metadata": {},
   "outputs": [],
   "source": [
    "import numpy as np\n",
    "import pandas as pd\n",
    "from sklearn.model_selection import train_test_split\n",
    "from sklearn.preprocessing import OneHotEncoder\n",
    "from sklearn.preprocessing import MinMaxScaler\n",
    "from sklearn.preprocessing import StandardScaler\n",