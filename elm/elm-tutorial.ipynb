
{
 "cells": [
  {
   "cell_type": "markdown",
   "metadata": {},
   "source": [
    "# Extreme Learning Machines from Scratch\n",
    "### Author: [Glenn Paul Gara](glenngara.github.io)\n",